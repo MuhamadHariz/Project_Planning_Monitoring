{
  "nbformat": 4,
  "nbformat_minor": 0,
  "metadata": {
    "colab": {
      "provenance": []
    },
    "kernelspec": {
      "name": "python3",
      "display_name": "Python 3"
    },
    "language_info": {
      "name": "python"
    }
  },
  "cells": [
    {
      "cell_type": "code",
      "execution_count": null,
      "metadata": {
        "id": "KtOF8OkyhFI4"
      },
      "outputs": [],
      "source": [
        "!pip install openpyxl"
      ]
    },
    {
      "cell_type": "code",
      "source": [
        "import pandas as pd\n",
        "from datetime import datetime\n",
        "\n",
        "# Load your data (replace this with your actual data loading method)\n",
        "data = pd.read_excel(\"/content/drive/MyDrive/IPM-NIISe/20250411 NIISe App Scope - 300425.xlsx\")  # or pd.read_csv()\n",
        "\n",
        "# Sample transformation (from previous example)\n",
        "output = data[[\n",
        "    'TASK ID', 'OUTLINE NUMBER', 'NAME', 'OUTLINE LEVEL',\n",
        "    'START DATE', 'FINISH DATE', 'DURATION (DAYS)',\n",
        "    '% PLANNED', '% ACTUAL', 'IS SUMMARY'\n",
        "]].copy()\n",
        "\n",
        "output = output.replace('#N/A', '')\n",
        "\n",
        "# Generate filename with today's date\n",
        "today_date = datetime.now().strftime('%Y%m%d')\n",
        "filename = f\"NIISe App Scope - {today_date}.xlsx\"\n",
        "\n",
        "# Save to Excel\n",
        "with pd.ExcelWriter(filename, engine='openpyxl') as writer:\n",
        "    output.to_excel(writer, index=False, sheet_name='App Scope')\n",
        "\n",
        "    # Optional formatting\n",
        "    workbook = writer.book\n",
        "    worksheet = writer.sheets['App Scope']\n",
        "\n",
        "    # Set column widths (adjust as needed)\n",
        "    worksheet.column_dimensions['A'].width = 8   # TASK ID\n",
        "    worksheet.column_dimensions['B'].width = 15  # OUTLINE NUMBER\n",
        "    worksheet.column_dimensions['C'].width = 40  # NAME\n",
        "    worksheet.column_dimensions['D'].width = 12  # OUTLINE LEVEL\n",
        "    worksheet.column_dimensions['E'].width = 18  # START DATE\n",
        "    worksheet.column_dimensions['F'].width = 18  # FINISH DATE\n",
        "    worksheet.column_dimensions['G'].width = 12  # DURATION\n",
        "    worksheet.column_dimensions['H'].width = 12  # % PLANNED\n",
        "    worksheet.column_dimensions['I'].width = 12  # % ACTUAL\n",
        "    worksheet.column_dimensions['J'].width = 10  # IS SUMMARY\n",
        "\n",
        "print(f\"File saved as: {filename}\")"
      ],
      "metadata": {
        "id": "h391v6JhhYsP"
      },
      "execution_count": null,
      "outputs": []
    }
  ]
}